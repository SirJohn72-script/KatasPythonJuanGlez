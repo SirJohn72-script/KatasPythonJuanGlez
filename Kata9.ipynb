{
 "cells": [
  {
   "cell_type": "markdown",
   "metadata": {},
   "source": [
    "### Kata 9 - Funciones"
   ]
  },
  {
   "cell_type": "code",
   "execution_count": null,
   "metadata": {},
   "outputs": [],
   "source": [
    "## Ejercicio 1\n",
    "def calculoCombustible(*args):\n",
    "    suma = sum(args)\n",
    "    return suma / len(args)\n",
    "\n",
    "def monitorear_tanque(tanque_1,tanque_2, tanque_3):\n",
    "    return f\"\"\"\n",
    "        Combustible total:{calculoCombustible(tanque_1,tanque_2, tanque_3)}\n",
    "        Tanque 1: {tanque_1}\n",
    "        Tanque 2: {tanque_2}\n",
    "        Tanque 3: {tanque_3}\n",
    "    \"\"\"\n",
    "\n",
    "print(monitorear_tanque(23, 43, 54))\n"
   ]
  },
  {
   "cell_type": "code",
   "execution_count": 33,
   "metadata": {},
   "outputs": [
    {
     "name": "stdout",
     "output_type": "stream",
     "text": [
      "\n",
      "    MISION DE VUELO\n",
      "    Destino: Marte\n",
      "    Tiempo de vuelo: 10\n",
      "    Combustible: 10\n",
      "    \tTanque: prin --- Combustible: 2 \n",
      "\tTanque: sec --- Combustible: 3 \n",
      "\tTanque: ext --- Combustible: 5 \n",
      "\n",
      "    \n"
     ]
    }
   ],
   "source": [
    "## Ejercicio 2\n",
    "def reporteMision(destino, *tiempo, **tanques):\n",
    "    tanquesReport = ''\n",
    "    for tanque in tanques:\n",
    "        tanquesReport+= f\"\"\"\\tTanque: {tanque} --- Combustible: {tanques[tanque]} \\n\"\"\"\n",
    "    \n",
    "    report = f\"\"\"\n",
    "    MISION DE VUELO\n",
    "    Destino: {destino}\n",
    "    Tiempo de vuelo: {sum(tiempo)}\n",
    "    Combustible: {sum(tanques.values())}\n",
    "    {tanquesReport}\n",
    "    \"\"\"\n",
    "    return report\n",
    "\n",
    "print(reporteMision(\"Marte\", 1, 2, 3, 4, prin = 2, sec =3, ext =5))\n"
   ]
  },
  {
   "cell_type": "code",
   "execution_count": null,
   "metadata": {},
   "outputs": [],
   "source": []
  }
 ],
 "metadata": {
  "interpreter": {
   "hash": "379bacb757386dc381edc6719a0c0f439fe8679437390e6b3cf83c1ac04027fa"
  },
  "kernelspec": {
   "display_name": "Python 3.10.2 64-bit (windows store)",
   "language": "python",
   "name": "python3"
  },
  "language_info": {
   "codemirror_mode": {
    "name": "ipython",
    "version": 3
   },
   "file_extension": ".py",
   "mimetype": "text/x-python",
   "name": "python",
   "nbconvert_exporter": "python",
   "pygments_lexer": "ipython3",
   "version": "3.10.2"
  },
  "orig_nbformat": 4
 },
 "nbformat": 4,
 "nbformat_minor": 2
}
