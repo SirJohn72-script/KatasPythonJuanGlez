{
 "cells": [
  {
   "cell_type": "markdown",
   "metadata": {},
   "source": [
    "### Kata 8 - Administrar datos con diccionarios"
   ]
  },
  {
   "cell_type": "code",
   "execution_count": null,
   "metadata": {},
   "outputs": [],
   "source": [
    "## Ejercicio 1\n",
    "planet = {\n",
    "    'name': \"Mars\", \n",
    "    'moons': 2, \n",
    "}\n",
    "\n",
    "print(\"Planet name:\",planet['name'] ,\"-- Number of moons:\",planet['moons'] )\n",
    "\n",
    "planet['circunferencia'] = {\n",
    "    \"polar\": 6752, \n",
    "    \"equatorial\": 6792\n",
    "}\n",
    "\n",
    "print(\"Planet name:\",planet['name'], \"-- Polar Circunference:\", str(planet['circunferencia']['polar']))\n"
   ]
  },
  {
   "cell_type": "code",
   "execution_count": 38,
   "metadata": {},
   "outputs": [
    {
     "name": "stdout",
     "output_type": "stream",
     "text": [
      "17.833333333333332\n"
     ]
    }
   ],
   "source": [
    "### Ejercicio 2\n",
    "planet_moons = {\n",
    "    'mercury': 0,\n",
    "    'venus': 0,\n",
    "    'earth': 1,\n",
    "    'mars': 2,\n",
    "    'jupiter': 79,\n",
    "    'saturn': 82,\n",
    "    'uranus': 27,\n",
    "    'neptune': 14,\n",
    "    'pluto': 5,\n",
    "    'haumea': 2,\n",
    "    'makemake': 1,\n",
    "    'eris': 1\n",
    "}\n",
    "\n",
    "moonsCount = 0\n",
    "for moon in planet_moons:\n",
    "    moonsCount+= planet_moons[moon]\n",
    "\n",
    "average = moonsCount / len(planet_moons)\n",
    "print(average)"
   ]
  },
  {
   "cell_type": "code",
   "execution_count": null,
   "metadata": {},
   "outputs": [],
   "source": []
  }
 ],
 "metadata": {
  "interpreter": {
   "hash": "379bacb757386dc381edc6719a0c0f439fe8679437390e6b3cf83c1ac04027fa"
  },
  "kernelspec": {
   "display_name": "Python 3.10.2 64-bit (windows store)",
   "language": "python",
   "name": "python3"
  },
  "language_info": {
   "codemirror_mode": {
    "name": "ipython",
    "version": 3
   },
   "file_extension": ".py",
   "mimetype": "text/x-python",
   "name": "python",
   "nbconvert_exporter": "python",
   "pygments_lexer": "ipython3",
   "version": "3.10.2"
  },
  "orig_nbformat": 4
 },
 "nbformat": 4,
 "nbformat_minor": 2
}
