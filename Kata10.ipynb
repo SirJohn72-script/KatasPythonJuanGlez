{
 "cells": [
  {
   "cell_type": "code",
   "execution_count": null,
   "metadata": {},
   "outputs": [],
   "source": [
    "##File not found \n",
    "def main():\n",
    "    open(\"path/to/mars.jpg\")\n",
    "\n",
    "if __name__ == '__main__':\n",
    "    main()"
   ]
  },
  {
   "cell_type": "code",
   "execution_count": 7,
   "metadata": {},
   "outputs": [
    {
     "name": "stdout",
     "output_type": "stream",
     "text": [
      "Archivo config.txt no encontrado\n"
     ]
    }
   ],
   "source": [
    "def main():\n",
    "    try:\n",
    "        open('config.txt')\n",
    "    except FileNotFoundError as err:\n",
    "        print(\"Archivo config.txt no encontrado\")\n",
    "\n",
    "if __name__ == '__main__':\n",
    "    main()"
   ]
  },
  {
   "cell_type": "code",
   "execution_count": null,
   "metadata": {},
   "outputs": [],
   "source": [
    "def main():\n",
    "    try:\n",
    "        configuration = open('config.txt')\n",
    "    except FileNotFoundError:\n",
    "        print(\"Archivo config.txt no econtrado\")\n",
    "    except IsADirectoryError:\n",
    "        print(\"cofig.txt es un directorio no un archivo, no se puede leer\")\n",
    "\n",
    "if __name__ == '__main__':\n",
    "    main()"
   ]
  },
  {
   "cell_type": "code",
   "execution_count": null,
   "metadata": {},
   "outputs": [],
   "source": [
    "def main():\n",
    "    try:\n",
    "        open('config.txt')\n",
    "    except OSError as err:\n",
    "        if err.errno == 2:\n",
    "            print(\"No se encontro al archivo config.txt\")\n",
    "        elif err.errno == 13:\n",
    "            print(\"Imposible leer el archivo config.txt\")\n",
    "  \n",
    "if __name__ == '__main__':\n",
    "    main()"
   ]
  },
  {
   "cell_type": "code",
   "execution_count": 10,
   "metadata": {},
   "outputs": [
    {
     "name": "stdout",
     "output_type": "stream",
     "text": [
      "No hay agua suficiente para este viaje\n"
     ]
    }
   ],
   "source": [
    "def water_days_left(tripulants, water_left, days_left):\n",
    "    uso_diario = tripulants * 11\n",
    "    uso_calculado = uso_diario * days_left\n",
    "    agua_restante = water_left - uso_calculado\n",
    "\n",
    "    if(agua_restante <= 0):\n",
    "        raise RuntimeError(f\"\"\"No hay agua suficiente para este viaje\"\"\")\n",
    "    else:\n",
    "        return f\"\"\"Agua restante despues de {days_left} dias es {agua_restante} litro\"\"\"\n",
    "\n",
    "try:\n",
    "    print(water_days_left(7, 200, 4))    \n",
    "except RuntimeError as err:\n",
    "    print(err)"
   ]
  },
  {
   "cell_type": "code",
   "execution_count": 24,
   "metadata": {},
   "outputs": [
    {
     "name": "stdout",
     "output_type": "stream",
     "text": [
      "ok...\n",
      "ok...\n",
      "ok...\n"
     ]
    },
    {
     "ename": "TypeError",
     "evalue": "unsupported operand type(s) for *: 'int' and 'NoneType'",
     "output_type": "error",
     "traceback": [
      "\u001b[1;31m---------------------------------------------------------------------------\u001b[0m",
      "\u001b[1;31mTypeError\u001b[0m                                 Traceback (most recent call last)",
      "\u001b[1;32me:\\Launch X\\python-course-katas\\Kata10.ipynb Cell 6'\u001b[0m in \u001b[0;36m<module>\u001b[1;34m\u001b[0m\n\u001b[0;32m     <a href='vscode-notebook-cell:/e%3A/Launch%20X/python-course-katas/Kata10.ipynb#ch0000005?line=15'>16</a>\u001b[0m         \u001b[39mreturn\u001b[39;00m \u001b[39mf\u001b[39m\u001b[39m\"\"\"\u001b[39m\u001b[39mAgua restante despues de \u001b[39m\u001b[39m{\u001b[39;00mdays_left\u001b[39m}\u001b[39;00m\u001b[39m dias es \u001b[39m\u001b[39m{\u001b[39;00magua_restante\u001b[39m}\u001b[39;00m\u001b[39m litro\u001b[39m\u001b[39m\"\"\"\u001b[39m\n\u001b[0;32m     <a href='vscode-notebook-cell:/e%3A/Launch%20X/python-course-katas/Kata10.ipynb#ch0000005?line=17'>18</a>\u001b[0m \u001b[39mtry\u001b[39;00m:\n\u001b[1;32m---> <a href='vscode-notebook-cell:/e%3A/Launch%20X/python-course-katas/Kata10.ipynb#ch0000005?line=18'>19</a>\u001b[0m     \u001b[39mprint\u001b[39m(water_days_left(\u001b[39m7\u001b[39;49m, \u001b[39m\"\u001b[39;49m\u001b[39m200\u001b[39;49m\u001b[39m\"\u001b[39;49m, \u001b[39mNone\u001b[39;49;00m))    \n\u001b[0;32m     <a href='vscode-notebook-cell:/e%3A/Launch%20X/python-course-katas/Kata10.ipynb#ch0000005?line=20'>21</a>\u001b[0m \u001b[39mexcept\u001b[39;00m \u001b[39mRuntimeError\u001b[39;00m \u001b[39mas\u001b[39;00m err:\n\u001b[0;32m     <a href='vscode-notebook-cell:/e%3A/Launch%20X/python-course-katas/Kata10.ipynb#ch0000005?line=21'>22</a>\u001b[0m     \u001b[39mprint\u001b[39m(err)\n",
      "\u001b[1;32me:\\Launch X\\python-course-katas\\Kata10.ipynb Cell 6'\u001b[0m in \u001b[0;36mwater_days_left\u001b[1;34m(tripulants, water_left, days_left)\u001b[0m\n\u001b[0;32m      <a href='vscode-notebook-cell:/e%3A/Launch%20X/python-course-katas/Kata10.ipynb#ch0000005?line=5'>6</a>\u001b[0m         \u001b[39mraise\u001b[39;00m \u001b[39mTypeError\u001b[39;00m(\u001b[39mf\u001b[39m\u001b[39m\"\"\"\u001b[39m\u001b[39mLos datos deben de ser cargados como valores - error\u001b[39m\u001b[39m{\u001b[39;00margument\u001b[39m}\u001b[39;00m\u001b[39m\"\"\"\u001b[39m)\n\u001b[0;32m      <a href='vscode-notebook-cell:/e%3A/Launch%20X/python-course-katas/Kata10.ipynb#ch0000005?line=8'>9</a>\u001b[0m uso_diario \u001b[39m=\u001b[39m tripulants \u001b[39m*\u001b[39m \u001b[39m11\u001b[39m\n\u001b[1;32m---> <a href='vscode-notebook-cell:/e%3A/Launch%20X/python-course-katas/Kata10.ipynb#ch0000005?line=9'>10</a>\u001b[0m uso_calculado \u001b[39m=\u001b[39m uso_diario \u001b[39m*\u001b[39;49m days_left\n\u001b[0;32m     <a href='vscode-notebook-cell:/e%3A/Launch%20X/python-course-katas/Kata10.ipynb#ch0000005?line=10'>11</a>\u001b[0m agua_restante \u001b[39m=\u001b[39m water_left \u001b[39m-\u001b[39m uso_calculado\n\u001b[0;32m     <a href='vscode-notebook-cell:/e%3A/Launch%20X/python-course-katas/Kata10.ipynb#ch0000005?line=12'>13</a>\u001b[0m \u001b[39mif\u001b[39;00m(agua_restante \u001b[39m<\u001b[39m\u001b[39m=\u001b[39m \u001b[39m0\u001b[39m):\n",
      "\u001b[1;31mTypeError\u001b[0m: unsupported operand type(s) for *: 'int' and 'NoneType'"
     ]
    }
   ],
   "source": [
    "def water_days_left(tripulants, water_left, days_left):\n",
    "    for argument in [tripulants, water_left, days_left]:\n",
    "        try:\n",
    "            print(\"ok...\")\n",
    "        except TypeError:\n",
    "            raise TypeError(f\"\"\"Los datos deben de ser cargados como valores - error{argument}\"\"\")\n",
    "\n",
    "\n",
    "    uso_diario = tripulants * 11\n",
    "    uso_calculado = uso_diario * days_left\n",
    "    agua_restante = water_left - uso_calculado\n",
    "\n",
    "    if(agua_restante <= 0):\n",
    "        raise RuntimeError(f\"\"\"No hay agua suficiente para este viaje\"\"\")\n",
    "    else:\n",
    "        return f\"\"\"Agua restante despues de {days_left} dias es {agua_restante} litro\"\"\"\n",
    "\n",
    "try:\n",
    "    print(water_days_left(7, \"200\", None))    \n",
    "\n",
    "except RuntimeError as err:\n",
    "    print(err)\n"
   ]
  },
  {
   "cell_type": "code",
   "execution_count": null,
   "metadata": {},
   "outputs": [],
   "source": []
  }
 ],
 "metadata": {
  "interpreter": {
   "hash": "379bacb757386dc381edc6719a0c0f439fe8679437390e6b3cf83c1ac04027fa"
  },
  "kernelspec": {
   "display_name": "Python 3.10.2 64-bit (windows store)",
   "language": "python",
   "name": "python3"
  },
  "language_info": {
   "codemirror_mode": {
    "name": "ipython",
    "version": 3
   },
   "file_extension": ".py",
   "mimetype": "text/x-python",
   "name": "python",
   "nbconvert_exporter": "python",
   "pygments_lexer": "ipython3",
   "version": "3.10.2"
  },
  "orig_nbformat": 4
 },
 "nbformat": 4,
 "nbformat_minor": 2
}
