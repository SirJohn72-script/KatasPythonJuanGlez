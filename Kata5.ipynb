{
 "cells": [
  {
   "cell_type": "markdown",
   "metadata": {},
   "source": [
    "### Ejercicio 1 - Utilizar operadores aritmeticos"
   ]
  },
  {
   "cell_type": "code",
   "execution_count": 36,
   "metadata": {},
   "outputs": [
    {
     "name": "stdout",
     "output_type": "stream",
     "text": [
      "629000000 km\n",
      "383277376 miles\n"
     ]
    }
   ],
   "source": [
    "#Distancia entre planetas\n",
    "planeta_1 = 149600000\n",
    "planeta_2 = 778600000\n",
    "distancia = planeta_2 - planeta_1\n",
    "print(str(distancia) + \" km\")\n",
    "\n",
    "distanciaMillas = distancia * 0.609344\n",
    "distanciaMillas = round(distanciaMillas)\n",
    "print(str(distanciaMillas) + \" miles\")\n"
   ]
  },
  {
   "cell_type": "code",
   "execution_count": 39,
   "metadata": {},
   "outputs": [
    {
     "name": "stdout",
     "output_type": "stream",
     "text": [
      "1100000030\n",
      "670278418.28032\n"
     ]
    }
   ],
   "source": [
    "#Ejercicio 2: convierte cadenas en números y usa valores absolutos\n",
    "planeta_1 = int(input(\"Introduce la distancia del planeta 1\"))\n",
    "planeta_2 = int(input(\"Introduce la distancia del planeta 2\"))\n",
    "\n",
    "distancia = abs(planeta_2 - planeta_1)\n",
    "print(distancia)\n",
    "\n",
    "millas = abs(distancia * 0.609344)\n",
    "print(millas)"
   ]
  },
  {
   "cell_type": "code",
   "execution_count": null,
   "metadata": {},
   "outputs": [],
   "source": []
  }
 ],
 "metadata": {
  "interpreter": {
   "hash": "63fd5069d213b44bf678585dea6b12cceca9941eaf7f819626cde1f2670de90d"
  },
  "kernelspec": {
   "display_name": "Python 3.9.4 64-bit",
   "language": "python",
   "name": "python3"
  },
  "language_info": {
   "codemirror_mode": {
    "name": "ipython",
    "version": 3
   },
   "file_extension": ".py",
   "mimetype": "text/x-python",
   "name": "python",
   "nbconvert_exporter": "python",
   "pygments_lexer": "ipython3",
   "version": "3.9.4"
  },
  "orig_nbformat": 4
 },
 "nbformat": 4,
 "nbformat_minor": 2
}
