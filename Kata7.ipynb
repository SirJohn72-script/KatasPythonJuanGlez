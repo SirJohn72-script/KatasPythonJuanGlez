{
 "cells": [
  {
   "cell_type": "markdown",
   "metadata": {},
   "source": [
    "### Kata 7 - Estructuras de control "
   ]
  },
  {
   "cell_type": "code",
   "execution_count": 9,
   "metadata": {},
   "outputs": [
    {
     "name": "stdout",
     "output_type": "stream",
     "text": [
      "erath\n",
      "mars\n",
      "saturn\n",
      "mvercuty\n"
     ]
    }
   ],
   "source": [
    "## Ejercicio 1\n",
    "new_planet = ''\n",
    "planets = []\n",
    "\n",
    "#introduce the first word as 'done'\n",
    "new_planet = input(\"Introduce un planeta\").lower()\n",
    "\n",
    "while new_planet != 'done':\n",
    "    if len(new_planet) > 0:\n",
    "        planets.append(new_planet)\n",
    "    new_planet = input(\"Introduce un planeta\").lower()\n",
    "\n",
    "## Ejercicio 2\n",
    "if len(planets) == 0:\n",
    "    print(\"There are not planets in the array\")\n",
    "else:\n",
    "    for planet in planets:\n",
    "        print(planet)      "
   ]
  },
  {
   "cell_type": "code",
   "execution_count": null,
   "metadata": {},
   "outputs": [],
   "source": []
  }
 ],
 "metadata": {
  "interpreter": {
   "hash": "379bacb757386dc381edc6719a0c0f439fe8679437390e6b3cf83c1ac04027fa"
  },
  "kernelspec": {
   "display_name": "Python 3.10.2 64-bit (windows store)",
   "language": "python",
   "name": "python3"
  },
  "language_info": {
   "codemirror_mode": {
    "name": "ipython",
    "version": 3
   },
   "file_extension": ".py",
   "mimetype": "text/x-python",
   "name": "python",
   "nbconvert_exporter": "python",
   "pygments_lexer": "ipython3",
   "version": "3.10.2"
  },
  "orig_nbformat": 4
 },
 "nbformat": 4,
 "nbformat_minor": 2
}
